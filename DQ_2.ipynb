{
 "cells": [
  {
   "cell_type": "markdown",
   "metadata": {},
   "source": [
    "__Possible Rate of Covid Infections in June 2020__"
   ]
  },
  {
   "cell_type": "markdown",
   "metadata": {},
   "source": [
    "**Misleading Statistics**\\\n",
    "Even when correctly using statistical concepts, it is still possible to mislead your audience.  The following diagrams depict the "
   ]
  },
  {
   "cell_type": "code",
   "execution_count": null,
   "metadata": {
    "is_executing": true
   },
   "outputs": [],
   "source": [
    "%matplotlib inline\n",
    "import matplotlib.pyplot as plt\n",
    "import math\n",
    "from matplotlib_venn import venn2, venn2_circles\n",
    "\n",
    "v = (math.sqrt(10),10, 1)\n",
    "venn = venn2(v, set_labels=('Infected', 'Non-Tested'))\n",
    "vc = venn2_circles(v)\n",
    "plt.title(\"Possible Rate of Covid Infections\\n\\n\\nThe Intersection Contains Confirmed Cases\")\n",
    "plt.show()\n",
    "#(Tretyakov, 2012)\n"
   ]
  },
  {
   "cell_type": "markdown",
   "metadata": {},
   "source": [
    "Above diagram based on statements made during a press briefing by Robert Redfield on June 25, 2020 "
   ]
  },
  {
   "cell_type": "code",
   "execution_count": null,
   "metadata": {
    "is_executing": true
   },
   "outputs": [],
   "source": [
    "# Define larger circle represents total infections\n",
    "def createCircle():\n",
    "    circle = plt.Circle((0, 0), radius=math.sqrt(10), color='black', fill=False, label='Total Estimated Infections')\n",
    "    return circle\n",
    "\n",
    "# Define smaller circle represents only confirmed cases\n",
    "def createSmall():\n",
    "    small_circle = plt.Circle((0, 0), radius=1, color='gray', fill=True, label='Confirmed Infections')\n",
    "    return small_circle\n",
    "\n",
    "# Define to display 2 circules\n",
    "def showShape(patch1, patch2):\n",
    "    ax = plt.gca()\n",
    "    ax.add_patch(patch1)\n",
    "    ax.add_patch(patch2)\n",
    "    ax.set_xlim(-20, 20)\n",
    "    ax.set_ylim(-20, 20)\n",
    "    \n",
    "    # Title of Diagram\n",
    "    plt.title(\"Recorded Cases VS Estimated Total Infections\")\n",
    "    plt.legend(loc='upper right')\n",
    "    plt.axis('scaled')\n",
    "    plt.show()\n",
    "\n",
    "if __name__ == '__main__':\n",
    "    c = createCircle()\n",
    "    sc = createSmall()\n",
    "    showShape(c, sc)\n",
    "    #(Mirsa, 2021)"
   ]
  },
  {
   "cell_type": "markdown",
   "metadata": {},
   "source": [
    "Above diagram based on statements made during a press briefing by Robert Redfield on June 25, 2020 "
   ]
  },
  {
   "cell_type": "markdown",
   "metadata": {},
   "source": [
    "__References__\\\n",
    "Tretyakov, K.(2012). Venn diagram plotting routines. \\\n",
    "    &emsp;&emsp;***venn2.py***. http://kt.era.ee/\\\n",
    "Misra, P. K. (2021). Drawing CIRCLE using Matplotlib | Python.\\\n",
    "&emsp;&emsp;***Educating India***. https://youtu.be/hsVeW5SnAgY?si=LYymPxVZHXOk7ne1\\\n",
    "Pearl, R. (2020). Three Misleading, Dangerous Coronavirus Statistics.\\\n",
    "&emsp;&emsp;***Forbes.com***\n",
    "https://www.forbes.com/sites/robertpearl/2020/09/22/3-misleading-dangerous-coronavirus-statistics/?sh=1d2493ab7169\\\n",
    "Redfield, R. (2020). Transcript for the CDC Telebriefing Update on COVID-19\\\n",
    "&emsp;&emsp;***Centers for Disease Control and Prevention***. https://www.cdc.gov/media/releases/2020/t0625-COVID-19-update.html\\\n",
    "\n"
   ]
  }
 ],
 "metadata": {
  "kernelspec": {
   "display_name": "base",
   "language": "python",
   "name": "python3"
  },
  "language_info": {
   "codemirror_mode": {
    "name": "ipython",
    "version": 3
   },
   "file_extension": ".py",
   "mimetype": "text/x-python",
   "name": "python",
   "nbconvert_exporter": "python",
   "pygments_lexer": "ipython3",
   "version": "3.11.5"
  }
 },
 "nbformat": 4,
 "nbformat_minor": 2
}
